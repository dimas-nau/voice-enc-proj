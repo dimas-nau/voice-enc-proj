{
 "cells": [
  {
   "cell_type": "markdown",
   "id": "06a51bff",
   "metadata": {},
   "source": [
    "# 1. Install Dependencies and login Huggingface if you want to push your model"
   ]
  },
  {
   "cell_type": "code",
   "execution_count": null,
   "id": "6f152bfa",
   "metadata": {},
   "outputs": [],
   "source": [
    "\n",
    "# !pip install torchaudio==0.10.0+cu111 -f https://download.pytorch.org/whl/cu111/torch_stable.html\n",
    "# !pip install datasets\n",
    "# !pip install transformers==4.11.3\n",
    "# !pip install librosa\n",
    "# !pip install jiwer\n",
    "# !pip install ipywidgets"
   ]
  },
  {
   "cell_type": "code",
   "execution_count": null,
   "id": "f7a636d4",
   "metadata": {},
   "outputs": [],
   "source": [
    "# from huggingface_hub import notebook_login\n",
    "\n",
    "# notebook_login()"
   ]
  },
  {
   "cell_type": "code",
   "execution_count": null,
   "id": "50b3cda1",
   "metadata": {},
   "outputs": [],
   "source": [
    "from datasets import load_dataset, load_metric, Audio, Dataset\n",
    "import pandas as pd\n",
    "import numpy\n",
    "import torchaudio\n",
    "import datasets\n"
   ]
  },
  {
   "cell_type": "markdown",
   "id": "186a10df",
   "metadata": {},
   "source": [
    "# 2.1. Load Dataset"
   ]
  },
  {
   "cell_type": "code",
   "execution_count": null,
   "id": "88e916a3",
   "metadata": {},
   "outputs": [],
   "source": [
    "data = pd.read_csv(\"/path/to/file/train.tsv\", \n",
    "                   delimiter='\\t')"
   ]
  },
  {
   "cell_type": "code",
   "execution_count": null,
   "id": "dba64269",
   "metadata": {},
   "outputs": [],
   "source": [
    "from datasets import load_dataset, load_metric, Audio, Dataset"
   ]
  },
  {
   "cell_type": "markdown",
   "id": "96a3fd2c",
   "metadata": {},
   "source": [
    "# 2.2. Split dataset into train and test"
   ]
  },
  {
   "cell_type": "code",
   "execution_count": null,
   "id": "3f7a04bc",
   "metadata": {},
   "outputs": [],
   "source": [
    "from sklearn.model_selection import train_test_split\n",
    "\n",
    "train, test = train_test_split(data, test_size = 0.3)"
   ]
  },
  {
   "cell_type": "code",
   "execution_count": null,
   "id": "25695155",
   "metadata": {},
   "outputs": [],
   "source": [
    "train = pd.DataFrame({\n",
    "    \"path\" : train['path'],\n",
    "    \"sentence\" : train['sentence'],\n",
    "})\n",
    "\n",
    "test = pd.DataFrame({\n",
    "    \"path\" : test['path'],\n",
    "    \"sentence\" : test['sentence']\n",
    "})"
   ]
  },
  {
   "cell_type": "code",
   "execution_count": null,
   "id": "447c8723",
   "metadata": {},
   "outputs": [],
   "source": [
    "data_train = Dataset.from_dict(train)\n",
    "data_test = Dataset.from_dict(test)\n",
    "DatasetDict = datasets.DatasetDict({\"train\" : data_train, \"test\" : data_test})"
   ]
  },
  {
   "cell_type": "code",
   "execution_count": null,
   "id": "e5bb76c5",
   "metadata": {},
   "outputs": [],
   "source": [
    "DatasetDict"
   ]
  },
  {
   "cell_type": "code",
   "execution_count": null,
   "id": "915f4132",
   "metadata": {},
   "outputs": [],
   "source": [
    "data_train"
   ]
  },
  {
   "cell_type": "markdown",
   "id": "faa1e7a6",
   "metadata": {},
   "source": [
    "# 2.3. Just to see your data instead of using .head() or .tail()"
   ]
  },
  {
   "cell_type": "code",
   "execution_count": null,
   "id": "bc648b7b",
   "metadata": {},
   "outputs": [],
   "source": [
    "from datasets import ClassLabel\n",
    "import random\n",
    "import pandas as pd\n",
    "from IPython.display import display, HTML\n",
    "\n",
    "def show_random_elements(dataset, num_examples=10):\n",
    "    assert num_examples <= len(dataset), \"Can't pick more elements than there are in the dataset.\"\n",
    "    picks = []\n",
    "    for _ in range(num_examples):\n",
    "        pick = random.randint(0, len(dataset)-1)\n",
    "        while pick in picks:\n",
    "            pick = random.randint(0, len(dataset)-1)\n",
    "        picks.append(pick)\n",
    "    \n",
    "    df = pd.DataFrame(dataset[picks])\n",
    "    display(HTML(df.to_html()))"
   ]
  },
  {
   "cell_type": "code",
   "execution_count": null,
   "id": "0b1c00c6",
   "metadata": {},
   "outputs": [],
   "source": [
    "show_random_elements(data_train, num_examples=10)\n",
    "show_random_elements(data_test, num_examples=10)\n"
   ]
  },
  {
   "cell_type": "markdown",
   "id": "0f2dcb8a",
   "metadata": {},
   "source": [
    "# We need to remove special characters for token writing\n",
    "# 2.4. Extract Chars from Labels"
   ]
  },
  {
   "cell_type": "code",
   "execution_count": null,
   "id": "5d4b3b58",
   "metadata": {},
   "outputs": [],
   "source": [
    "# import re\n",
    "# chars_to_ignore_regex = '[\\,\\?\\.\\!\\-\\;\\:\\\"\\“\\%\\‘\\”\\�]'\n",
    "\n",
    "# def remove_special_characters(batch):\n",
    "#     batch[\"sentence\"] = re.sub(chars_to_ignore_regex, '', batch[\"sentence\"]).lower() + \" \"\n",
    "#     return batch\n",
    "\n",
    "### Change this accordingly ###\n",
    "\n",
    "import re\n",
    "chars_to_remove_regex = '[\\,\\?\\.\\!\\-\\;\\:\\\"\\“\\%\\‘\\”\\�\\'\\，\\(\\)\\[\\]\\’\\–\\—\\\\\\]'\n",
    "\n",
    "def remove_special_characters(batch):\n",
    "    batch[\"sentence\"] = re.sub(chars_to_remove_regex, '', batch[\"sentence\"]).lower()\n",
    "    return batch"
   ]
  },
  {
   "cell_type": "code",
   "execution_count": null,
   "id": "297fd234",
   "metadata": {},
   "outputs": [],
   "source": [
    "data_train = data_train.map(remove_special_characters)\n",
    "data_test = data_test.map(remove_special_characters)"
   ]
  },
  {
   "cell_type": "code",
   "execution_count": null,
   "id": "cd1956b3",
   "metadata": {},
   "outputs": [],
   "source": [
    "### Function to extract all chars in dataset label\n",
    "\n",
    "def extract_all_chars(batch):\n",
    "  all_text = \" \".join(batch[\"sentence\"])\n",
    "  vocab = list(set(all_text))\n",
    "  return {\"vocab\": [vocab], \"all_text\": [all_text]}"
   ]
  },
  {
   "cell_type": "code",
   "execution_count": null,
   "id": "28fd1b58",
   "metadata": {},
   "outputs": [],
   "source": [
    "vocab_train = data_train.map(extract_all_chars, batched=True, batch_size=-1, \n",
    "                             keep_in_memory=True, \n",
    "                             remove_columns=data_train.column_names)\n",
    "\n",
    "vocab_test = data_test.map(extract_all_chars, batched=True, batch_size=-1, \n",
    "                           keep_in_memory=True, \n",
    "                           remove_columns=data_test.column_names)"
   ]
  },
  {
   "cell_type": "code",
   "execution_count": null,
   "id": "8a6b02f9",
   "metadata": {},
   "outputs": [],
   "source": [
    "vocab_list = list(set(vocab_train[\"vocab\"][0]) | set(vocab_test[\"vocab\"][0]))"
   ]
  },
  {
   "cell_type": "code",
   "execution_count": null,
   "id": "1c14ba56",
   "metadata": {},
   "outputs": [],
   "source": [
    "vocab_dict = {v: k for k, v in enumerate(vocab_list)}\n",
    "vocab_dict"
   ]
  },
  {
   "cell_type": "code",
   "execution_count": null,
   "id": "85ab976c",
   "metadata": {},
   "outputs": [],
   "source": [
    "### Just we can see the separator, we change blank space into |\n",
    "\n",
    "vocab_dict[\"|\"] = vocab_dict[\" \"]\n",
    "del vocab_dict[\" \"]"
   ]
  },
  {
   "cell_type": "code",
   "execution_count": null,
   "id": "bf651aee",
   "metadata": {},
   "outputs": [],
   "source": [
    "### Unkown and Padding token definition\n",
    "\n",
    "vocab_dict[\"[UNK]\"] = len(vocab_dict)\n",
    "vocab_dict[\"[PAD]\"] = len(vocab_dict)\n",
    "len(vocab_dict)"
   ]
  },
  {
   "cell_type": "code",
   "execution_count": null,
   "id": "0b996d4a",
   "metadata": {},
   "outputs": [],
   "source": [
    "vocab_dict"
   ]
  },
  {
   "cell_type": "code",
   "execution_count": null,
   "id": "99c77c25",
   "metadata": {},
   "outputs": [],
   "source": [
    "### Write the dict into a .json file\n",
    "\n",
    "import json\n",
    "with open('vocab.json', 'w') as vocab_file:\n",
    "    json.dump(vocab_dict, vocab_file)"
   ]
  },
  {
   "cell_type": "markdown",
   "id": "a4dcb61a",
   "metadata": {},
   "source": [
    "# 2.5. Generating Processor"
   ]
  },
  {
   "cell_type": "code",
   "execution_count": null,
   "id": "533690fd",
   "metadata": {},
   "outputs": [],
   "source": [
    "from transformers import Wav2Vec2CTCTokenizer\n",
    "\n",
    "tokenizer = Wav2Vec2CTCTokenizer(\"./vocab.json\", unk_token=\"[UNK]\", pad_token=\"[PAD]\", word_delimiter_token=\"|\")"
   ]
  },
  {
   "cell_type": "code",
   "execution_count": null,
   "id": "d2f12a6f",
   "metadata": {},
   "outputs": [],
   "source": [
    "from transformers import Wav2Vec2FeatureExtractor\n",
    "\n",
    "feature_extractor = Wav2Vec2FeatureExtractor(feature_size=1, sampling_rate=16000, \n",
    "                                             padding_value=0.0, do_normalize=True, \n",
    "                                             return_attention_mask=True)"
   ]
  },
  {
   "cell_type": "code",
   "execution_count": null,
   "id": "8ec1ce0c",
   "metadata": {},
   "outputs": [],
   "source": [
    "from transformers import Wav2Vec2Processor\n",
    "\n",
    "processor = Wav2Vec2Processor(feature_extractor=feature_extractor, tokenizer=tokenizer)"
   ]
  },
  {
   "cell_type": "markdown",
   "id": "eae33492",
   "metadata": {},
   "source": [
    "# 2.6. Change Audio into Array"
   ]
  },
  {
   "cell_type": "code",
   "execution_count": null,
   "id": "b392c613",
   "metadata": {},
   "outputs": [],
   "source": [
    "import soundfile as sf\n",
    "import librosa\n",
    "import numpy\n",
    "import torchaudio\n",
    "# import array as arr\n",
    "def speech_file_to_array_fn(batch):\n",
    "#     y, sr = librosa.load(batch[\"path\"], sr=16000, dtype='float32')\n",
    "#     array, sr = sf.read(batch['path'])\n",
    "    y, sr = torchaudio.load(batch[\"path\"])\n",
    "    resampler = torchaudio.transforms.Resample(sr,16000)\n",
    "    array = resampler(y).squeeze().numpy()\n",
    "    batch[\"speech\"] = array\n",
    "    batch[\"sampling_rate\"] = int(sr)\n",
    "    batch[\"target_text\"] = batch[\"sentence\"]\n",
    "    \n",
    "    return batch"
   ]
  },
  {
   "cell_type": "markdown",
   "id": "1a10e951",
   "metadata": {},
   "source": [
    "# Implement the function"
   ]
  },
  {
   "cell_type": "code",
   "execution_count": null,
   "id": "59aa0caa",
   "metadata": {},
   "outputs": [],
   "source": [
    "data_train = data_train.map(speech_file_to_array_fn, remove_columns=data_train.column_names, num_proc=4)"
   ]
  },
  {
   "cell_type": "code",
   "execution_count": null,
   "id": "f70263a5",
   "metadata": {},
   "outputs": [],
   "source": [
    "data_test = data_test.map(speech_file_to_array_fn, remove_columns=data_test.column_names, num_proc=4)"
   ]
  },
  {
   "cell_type": "code",
   "execution_count": null,
   "id": "300f9934",
   "metadata": {},
   "outputs": [],
   "source": [
    "show_random_elements(data_train, num_examples=10)"
   ]
  },
  {
   "cell_type": "code",
   "execution_count": null,
   "id": "d77af64e",
   "metadata": {},
   "outputs": [],
   "source": [
    "### Last checking\n",
    "rand_int = random.randint(0, len(data_train))\n",
    "\n",
    "print(\"Target text:\", data_train[rand_int][\"target_text\"])\n",
    "print(\"Input array shape:\", np.asarray(data_train[rand_int][\"speech\"]).shape)\n",
    "print(\"Sampling rate:\", data_train[rand_int][\"sampling_rate\"])"
   ]
  },
  {
   "cell_type": "markdown",
   "id": "3c89ce23",
   "metadata": {},
   "source": [
    "# 3.1. Preparing Dataset for Training"
   ]
  },
  {
   "cell_type": "code",
   "execution_count": null,
   "id": "a2c2b199",
   "metadata": {},
   "outputs": [],
   "source": [
    "from transformers import Wav2Vec2Processor\n",
    "\n",
    "processor = Wav2Vec2Processor(feature_extractor=feature_extractor, tokenizer=tokenizer)\n",
    "\n",
    "def prepare_dataset(batch):\n",
    "    # check that all files have the correct sampling rate\n",
    "    assert (\n",
    "        len(set(batch[\"sampling_rate\"])) == 1\n",
    "    ), f\"Make sure all inputs have the same sampling rate of {processor.feature_extractor.sampling_rate}.\"\n",
    "\n",
    "    batch[\"input_values\"] = processor(batch[\"speech\"], sampling_rate=batch[\"sampling_rate\"][0]).input_values\n",
    "    \n",
    "    with processor.as_target_processor():\n",
    "        batch[\"labels\"] = processor(batch[\"target_text\"]).input_ids\n",
    "    return batch"
   ]
  },
  {
   "cell_type": "code",
   "execution_count": null,
   "id": "873f2ecf",
   "metadata": {},
   "outputs": [],
   "source": [
    "# def prepare_dataset(batch):\n",
    "#     audio = batch[\"speech\"]\n",
    "\n",
    "#     # batched output is \"un-batched\"\n",
    "#     batch[\"input_values\"] = processor(audio[\"speech\"], sampling_rate=audio[\"sampling_rate\"]).input_values[0]\n",
    "#     batch[\"input_length\"] = len(batch[\"input_values\"])\n",
    "    \n",
    "#     with processor.as_target_processor():\n",
    "#         batch[\"labels\"] = processor(batch[\"sentence\"]).input_ids\n",
    "#     return batch"
   ]
  },
  {
   "cell_type": "code",
   "execution_count": null,
   "id": "6e800549",
   "metadata": {},
   "outputs": [],
   "source": [
    "### Implement the Function\n",
    "\n",
    "data_train_prep = data_train.map(prepare_dataset, remove_columns=data_train.column_names,num_proc=4, batched=True)\n",
    "data_test_prep = data_test.map(prepare_dataset, remove_columns=data_test.column_names, num_proc=4, batched=True)"
   ]
  },
  {
   "cell_type": "markdown",
   "id": "f788c3ec",
   "metadata": {},
   "source": [
    "# 3.2. Creating Data Collator for Wav2Vec2, so every matrix is padded and have the same length"
   ]
  },
  {
   "cell_type": "code",
   "execution_count": null,
   "id": "a16e9580",
   "metadata": {},
   "outputs": [],
   "source": [
    "import torch\n",
    "\n",
    "from dataclasses import dataclass, field\n",
    "from typing import Any, Dict, List, Optional, Union\n",
    "\n",
    "@dataclass\n",
    "class DataCollatorCTCWithPadding:\n",
    "    \"\"\"\n",
    "    Data collator that will dynamically pad the inputs received.\n",
    "    Args:\n",
    "        processor (:class:`~transformers.Wav2Vec2Processor`)\n",
    "            The processor used for proccessing the data.\n",
    "        padding (:obj:`bool`, :obj:`str` or :class:`~transformers.tokenization_utils_base.PaddingStrategy`, `optional`, defaults to :obj:`True`):\n",
    "            Select a strategy to pad the returned sequences (according to the model's padding side and padding index)\n",
    "            among:\n",
    "            * :obj:`True` or :obj:`'longest'`: Pad to the longest sequence in the batch (or no padding if only a single\n",
    "              sequence if provided).\n",
    "            * :obj:`'max_length'`: Pad to a maximum length specified with the argument :obj:`max_length` or to the\n",
    "              maximum acceptable input length for the model if that argument is not provided.\n",
    "            * :obj:`False` or :obj:`'do_not_pad'` (default): No padding (i.e., can output a batch with sequences of\n",
    "              different lengths).\n",
    "        max_length (:obj:`int`, `optional`):\n",
    "            Maximum length of the ``input_values`` of the returned list and optionally padding length (see above).\n",
    "        max_length_labels (:obj:`int`, `optional`):\n",
    "            Maximum length of the ``labels`` returned list and optionally padding length (see above).\n",
    "        pad_to_multiple_of (:obj:`int`, `optional`):\n",
    "            If set will pad the sequence to a multiple of the provided value.\n",
    "            This is especially useful to enable the use of Tensor Cores on NVIDIA hardware with compute capability >=\n",
    "            7.5 (Volta).\n",
    "    \"\"\"\n",
    "\n",
    "    processor: Wav2Vec2Processor\n",
    "    padding: Union[bool, str] = True\n",
    "    max_length: Optional[int] = None\n",
    "    max_length_labels: Optional[int] = None\n",
    "    pad_to_multiple_of: Optional[int] = None\n",
    "    pad_to_multiple_of_labels: Optional[int] = None\n",
    "\n",
    "    def __call__(self, features: List[Dict[str, Union[List[int], torch.Tensor]]]) -> Dict[str, torch.Tensor]:\n",
    "        # split inputs and labels since they have to be of different lengths and need\n",
    "        # different padding methods\n",
    "        input_features = [{\"input_values\": feature[\"input_values\"]} for feature in features]\n",
    "        label_features = [{\"input_ids\": feature[\"labels\"]} for feature in features]\n",
    "\n",
    "        batch = self.processor.pad(\n",
    "            input_features,\n",
    "            padding=self.padding,\n",
    "            max_length=self.max_length,\n",
    "            pad_to_multiple_of=self.pad_to_multiple_of,\n",
    "            return_tensors=\"pt\",\n",
    "        )\n",
    "        with self.processor.as_target_processor():\n",
    "            labels_batch = self.processor.pad(\n",
    "                label_features,\n",
    "                padding=self.padding,\n",
    "                max_length=self.max_length_labels,\n",
    "                pad_to_multiple_of=self.pad_to_multiple_of_labels,\n",
    "                return_tensors=\"pt\",\n",
    "            )\n",
    "\n",
    "        # replace padding with -100 to ignore loss correctly\n",
    "        labels = labels_batch[\"input_ids\"].masked_fill(labels_batch.attention_mask.ne(1), -100)\n",
    "\n",
    "        batch[\"labels\"] = labels\n",
    "\n",
    "        return batch\n"
   ]
  },
  {
   "cell_type": "code",
   "execution_count": null,
   "id": "d75fc685",
   "metadata": {},
   "outputs": [],
   "source": [
    "data_collator = DataCollatorCTCWithPadding(processor=processor, padding=True)\n"
   ]
  },
  {
   "cell_type": "markdown",
   "id": "bc0081c6",
   "metadata": {},
   "source": [
    "# 3.3. Error metrics using Character Error Rate (CER) from Jiwer"
   ]
  },
  {
   "cell_type": "code",
   "execution_count": null,
   "id": "73012b72",
   "metadata": {},
   "outputs": [],
   "source": [
    "from jiwer import cer\n",
    "import numpy as np\n",
    "def compute_metrics(pred):\n",
    "    global cer\n",
    "    pred_logits = pred.predictions\n",
    "    pred_ids = np.argmax(pred_logits, axis=-1)\n",
    "\n",
    "    pred.label_ids[pred.label_ids == -100] = processor.tokenizer.pad_token_id\n",
    "\n",
    "    pred_str = processor.batch_decode(pred_ids)\n",
    "    # we do not want to group tokens when computing the metrics\n",
    "    label_str = processor.batch_decode(pred.label_ids, group_tokens=False)\n",
    "\n",
    "    # wer = wer_metric.compute(predictions=pred_str, references=label_str)\n",
    "    # cer = fastwer.score(pred_str, label_str, char_level=True)\n",
    "    # cer = word_error_rate(hypotheses=pred_str, references=label_str, use_cer=True)\n",
    "\n",
    "    # ref: https://huggingface.co/ctl/wav2vec2-large-xlsr-cantonese/blob/main/cer.py\n",
    "    preds = [char for seq in pred_str for char in list(seq)]\n",
    "    refs = [char for seq in label_str for char in list(seq)]\n",
    "    cer_error = cer(label_str, pred_str)\n",
    "\n",
    "    return {\"cer\": cer_error}\n",
    "    # return {\"wer\": wer}"
   ]
  },
  {
   "cell_type": "code",
   "execution_count": null,
   "id": "ccc39236",
   "metadata": {},
   "outputs": [],
   "source": [
    "tes = 'aaab'\n",
    "ref = 'aac'\n",
    "error = cer(ref, tes)\n",
    "print(error)"
   ]
  },
  {
   "cell_type": "markdown",
   "id": "15509811",
   "metadata": {},
   "source": [
    "# 3.4. Load model from Huggingface, make sure you have unmetered internet connection since this will download the model"
   ]
  },
  {
   "cell_type": "code",
   "execution_count": null,
   "id": "03e361f5",
   "metadata": {},
   "outputs": [],
   "source": [
    "### we can customize the model hyperparameters here\n",
    "\n",
    "from transformers import Wav2Vec2ForCTC\n",
    "\n",
    "model = Wav2Vec2ForCTC.from_pretrained(\n",
    "    \"facebook/wav2vec2-large-xlsr-53\", \n",
    "    attention_dropout=0.0,\n",
    "    hidden_dropout=0.0,\n",
    "    feat_proj_dropout=0.0,\n",
    "    mask_time_prob=0.05,\n",
    "    layerdrop=0.1, \n",
    "    ctc_loss_reduction=\"mean\", \n",
    "    pad_token_id=processor.tokenizer.pad_token_id,\n",
    "    vocab_size=len(processor.tokenizer)\n",
    ")"
   ]
  },
  {
   "cell_type": "code",
   "execution_count": null,
   "id": "3d2417c8",
   "metadata": {},
   "outputs": [],
   "source": [
    "### To prevent the model uses default pre-trained feature extractor\n",
    "\n",
    "model.freeze_feature_extractor()"
   ]
  },
  {
   "cell_type": "markdown",
   "id": "aae148ba",
   "metadata": {},
   "source": [
    "# 4. Training the Model"
   ]
  },
  {
   "cell_type": "code",
   "execution_count": null,
   "id": "46005e79",
   "metadata": {},
   "outputs": [],
   "source": [
    "### Model Repo name, you can custom this to your path\n",
    "\n",
    "repo_name = \"mbrola-noise2\""
   ]
  },
  {
   "cell_type": "code",
   "execution_count": null,
   "id": "1db82c25",
   "metadata": {},
   "outputs": [],
   "source": [
    "from transformers import TrainingArguments\n",
    "\n",
    "training_args = TrainingArguments(\n",
    "  output_dir=repo_name,\n",
    "  group_by_length=True,\n",
    "  per_device_train_batch_size=32, # Size per batch, reduce this if your pc bottlenecks\n",
    "  evaluation_strategy=\"steps\",\n",
    "  num_train_epochs=20, # The number of training iteration, the more epochs the longer it will take to train.\n",
    "  gradient_checkpointing=True,\n",
    "  fp16=False, ### If you have Nvidia GPU, you can change this to True for faster processing\n",
    "  save_steps=500,\n",
    "  eval_steps=500,\n",
    "  logging_steps=40,\n",
    "  learning_rate=1e-4,\n",
    "  weight_decay=0.001,\n",
    "  warmup_steps=1000,\n",
    "  save_total_limit=2\n",
    ")"
   ]
  },
  {
   "cell_type": "code",
   "execution_count": null,
   "id": "771f4318",
   "metadata": {},
   "outputs": [],
   "source": [
    "from transformers import Trainer\n",
    "\n",
    "trainer = Trainer(\n",
    "    model=model,\n",
    "    data_collator=data_collator,\n",
    "    args=training_args,\n",
    "    compute_metrics=compute_metrics,\n",
    "    train_dataset=data_train_prep,\n",
    "    eval_dataset=data_test_prep,\n",
    "    tokenizer=processor.feature_extractor,\n",
    ")"
   ]
  },
  {
   "cell_type": "code",
   "execution_count": null,
   "id": "dbe32722",
   "metadata": {},
   "outputs": [],
   "source": [
    "import os\n",
    "os.environ[\"WANDB_DISABLED\"]=\"true\""
   ]
  },
  {
   "cell_type": "code",
   "execution_count": null,
   "id": "e988f12e",
   "metadata": {
    "scrolled": true
   },
   "outputs": [],
   "source": [
    "trainer.train()"
   ]
  },
  {
   "cell_type": "code",
   "execution_count": null,
   "id": "109704b6",
   "metadata": {},
   "outputs": [],
   "source": [
    "# tokenizer.save_pretrained"
   ]
  }
 ],
 "metadata": {
  "kernelspec": {
   "display_name": "Python 3 (ipykernel)",
   "language": "python",
   "name": "python3"
  },
  "language_info": {
   "codemirror_mode": {
    "name": "ipython",
    "version": 3
   },
   "file_extension": ".py",
   "mimetype": "text/x-python",
   "name": "python",
   "nbconvert_exporter": "python",
   "pygments_lexer": "ipython3",
   "version": "3.9.13"
  }
 },
 "nbformat": 4,
 "nbformat_minor": 5
}
