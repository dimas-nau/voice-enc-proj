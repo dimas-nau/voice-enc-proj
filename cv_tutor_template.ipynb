{
 "cells": [
  {
   "cell_type": "code",
   "execution_count": 2,
   "id": "f7a636d4",
   "metadata": {},
   "outputs": [
    {
     "data": {
      "application/vnd.jupyter.widget-view+json": {
       "model_id": "b2ca46025cdc4d2ba408085dbb133d78",
       "version_major": 2,
       "version_minor": 0
      },
      "text/plain": [
       "VBox(children=(HTML(value='<center> <img\\nsrc=https://huggingface.co/front/assets/huggingface_logo-noborder.sv…"
      ]
     },
     "metadata": {},
     "output_type": "display_data"
    }
   ],
   "source": [
    "from huggingface_hub import notebook_login\n",
    "\n",
    "notebook_login()"
   ]
  },
  {
   "cell_type": "code",
   "execution_count": 3,
   "id": "50b3cda1",
   "metadata": {},
   "outputs": [
    {
     "name": "stderr",
     "output_type": "stream",
     "text": [
      "Found cached dataset common_voice_11_0 (/home/vlsi-elka/.cache/huggingface/datasets/mozilla-foundation___common_voice_11_0/id/11.0.0/2c65b95d99ca879b1b1074ea197b65e0497848fd697fdb0582e0f6b75b6f4da0)\n",
      "Found cached dataset common_voice_11_0 (/home/vlsi-elka/.cache/huggingface/datasets/mozilla-foundation___common_voice_11_0/id/11.0.0/2c65b95d99ca879b1b1074ea197b65e0497848fd697fdb0582e0f6b75b6f4da0)\n"
     ]
    }
   ],
   "source": [
    "from datasets import load_dataset, load_metric, Audio\n",
    "\n",
    "common_voice_train = load_dataset(\"mozilla-foundation/common_voice_11_0\", \"id\", split=\"train\")\n",
    "common_voice_test = load_dataset(\"mozilla-foundation/common_voice_11_0\", \"id\", split=\"test\")"
   ]
  },
  {
   "cell_type": "code",
   "execution_count": 6,
   "id": "25695155",
   "metadata": {},
   "outputs": [
    {
     "data": {
      "text/plain": [
       "Dataset({\n",
       "    features: ['client_id', 'path', 'audio', 'sentence', 'up_votes', 'down_votes', 'age', 'gender', 'accent', 'locale', 'segment'],\n",
       "    num_rows: 5048\n",
       "})"
      ]
     },
     "execution_count": 6,
     "metadata": {},
     "output_type": "execute_result"
    }
   ],
   "source": [
    "common_voice_train"
   ]
  },
  {
   "cell_type": "code",
   "execution_count": 7,
   "id": "84fa24f5",
   "metadata": {},
   "outputs": [],
   "source": [
    "common_voice_train = common_voice_train.remove_columns([\"accent\", \"age\", \"client_id\", \"down_votes\", \"gender\", \"locale\", \"segment\", \"up_votes\"])\n",
    "common_voice_test = common_voice_test.remove_columns([\"accent\", \"age\", \"client_id\", \"down_votes\", \"gender\", \"locale\", \"segment\", \"up_votes\"])"
   ]
  },
  {
   "cell_type": "code",
   "execution_count": 8,
   "id": "bc648b7b",
   "metadata": {},
   "outputs": [],
   "source": [
    "from datasets import ClassLabel\n",
    "import random\n",
    "import pandas as pd\n",
    "from IPython.display import display, HTML\n",
    "\n",
    "def show_random_elements(dataset, num_examples=10):\n",
    "    assert num_examples <= len(dataset), \"Can't pick more elements than there are in the dataset.\"\n",
    "    picks = []\n",
    "    for _ in range(num_examples):\n",
    "        pick = random.randint(0, len(dataset)-1)\n",
    "        while pick in picks:\n",
    "            pick = random.randint(0, len(dataset)-1)\n",
    "        picks.append(pick)\n",
    "    \n",
    "    df = pd.DataFrame(dataset[picks])\n",
    "    display(HTML(df.to_html()))"
   ]
  },
  {
   "cell_type": "code",
   "execution_count": 9,
   "id": "0b1c00c6",
   "metadata": {},
   "outputs": [
    {
     "data": {
      "text/html": [
       "<table border=\"1\" class=\"dataframe\">\n",
       "  <thead>\n",
       "    <tr style=\"text-align: right;\">\n",
       "      <th></th>\n",
       "      <th>audio</th>\n",
       "      <th>sentence</th>\n",
       "    </tr>\n",
       "  </thead>\n",
       "  <tbody>\n",
       "    <tr>\n",
       "      <th>0</th>\n",
       "      <td>{'path': '/home/vlsi-elka/.cache/huggingface/datasets/downloads/extracted/715f35619aeb830a0fe0683a21bc935ce702d3abc85dda65f4301e2667c39582/common_voice_id_25970366.mp3', 'array': [0.0, 0.0, 0.0, 0.0, 0.0, 0.0, 0.0, 0.0, 0.0, 0.0, 0.0, 0.0, 0.0, 0.0, 0.0, 0.0, 0.0, 0.0, 0.0, 0.0, 0.0, 0.0, 0.0, 0.0, 0.0, 0.0, 0.0, 0.0, 0.0, 0.0, 0.0, 0.0, 0.0, 0.0, 0.0, 0.0, 0.0, 0.0, 0.0, 0.0, 0.0, 0.0, 0.0, 0.0, 0.0, 0.0, 0.0, 0.0, 0.0, 0.0, 0.0, 0.0, 0.0, 0.0, 0.0, 0.0, 0.0, 0.0, 0.0, 0.0, 0.0, 0.0, 0.0, 0.0, 0.0, 0.0, 0.0, 0.0, 0.0, 0.0, 0.0, 0.0, 0.0, 0.0, 0.0, 0.0, 0.0, 0.0, 0.0, 0.0, 0.0, 0.0, 0.0, 0.0, 0.0, 0.0, 0.0, 0.0, 0.0, 0.0, 0.0, 0.0, 0.0, 0.0, 0.0, 0.0, 0.0, 0.0, 0.0, 0.0, ...], 'sampling_rate': 48000}</td>\n",
       "      <td>Seorang pria duduk di kursi lipat di luar sambil mendengarkan musik di iPod-nya.</td>\n",
       "    </tr>\n",
       "    <tr>\n",
       "      <th>1</th>\n",
       "      <td>{'path': '/home/vlsi-elka/.cache/huggingface/datasets/downloads/extracted/715f35619aeb830a0fe0683a21bc935ce702d3abc85dda65f4301e2667c39582/common_voice_id_26250969.mp3', 'array': [0.0, 0.0, 0.0, 0.0, 0.0, 0.0, 0.0, 0.0, 0.0, 0.0, 0.0, 0.0, 0.0, 0.0, 0.0, 0.0, 0.0, 0.0, 0.0, 0.0, 0.0, 0.0, 0.0, 0.0, 0.0, 0.0, 0.0, 0.0, 0.0, 0.0, 0.0, 0.0, 0.0, 0.0, 0.0, 0.0, 0.0, 0.0, 0.0, 0.0, 0.0, 0.0, 0.0, 0.0, 0.0, 0.0, 0.0, 0.0, 0.0, 0.0, 0.0, 0.0, 0.0, 0.0, 0.0, 0.0, 0.0, 0.0, 0.0, 0.0, 0.0, 0.0, 0.0, 0.0, 0.0, 0.0, 0.0, 0.0, 0.0, 0.0, 0.0, 0.0, 0.0, 0.0, 0.0, 0.0, 0.0, 0.0, 0.0, 0.0, 0.0, 0.0, 0.0, 0.0, 0.0, 0.0, 0.0, 0.0, 0.0, 0.0, 0.0, 0.0, 0.0, 0.0, 0.0, 0.0, 0.0, 0.0, 0.0, 0.0, ...], 'sampling_rate': 48000}</td>\n",
       "      <td>Stasiun aslinya terdiri dari satu peron dengan satu jalur di salah satu sisi.</td>\n",
       "    </tr>\n",
       "    <tr>\n",
       "      <th>2</th>\n",
       "      <td>{'path': '/home/vlsi-elka/.cache/huggingface/datasets/downloads/extracted/715f35619aeb830a0fe0683a21bc935ce702d3abc85dda65f4301e2667c39582/common_voice_id_26269822.mp3', 'array': [0.0, 0.0, 0.0, 0.0, 0.0, 0.0, 0.0, 0.0, 0.0, 0.0, 0.0, 0.0, 0.0, 0.0, 0.0, 0.0, 0.0, 0.0, 0.0, 0.0, 0.0, 0.0, 0.0, 0.0, 0.0, 0.0, 0.0, 0.0, 0.0, 0.0, 0.0, 0.0, 0.0, 0.0, 0.0, 0.0, 0.0, 0.0, 0.0, 0.0, 0.0, 0.0, 0.0, 0.0, 0.0, 0.0, 0.0, 0.0, 0.0, 0.0, 0.0, 0.0, 0.0, 0.0, 0.0, 0.0, 0.0, 0.0, 0.0, 0.0, 0.0, 0.0, 0.0, 0.0, 0.0, 0.0, 0.0, 0.0, 0.0, 0.0, 0.0, 0.0, 0.0, 0.0, 0.0, 0.0, 0.0, 0.0, 0.0, 0.0, 0.0, 0.0, 0.0, 0.0, 0.0, 0.0, 0.0, 0.0, 0.0, 0.0, 0.0, 0.0, 0.0, 0.0, 0.0, 0.0, 0.0, 0.0, 0.0, 0.0, ...], 'sampling_rate': 48000}</td>\n",
       "      <td>Dia tampil secara teratur di konser dan opera.</td>\n",
       "    </tr>\n",
       "    <tr>\n",
       "      <th>3</th>\n",
       "      <td>{'path': '/home/vlsi-elka/.cache/huggingface/datasets/downloads/extracted/715f35619aeb830a0fe0683a21bc935ce702d3abc85dda65f4301e2667c39582/common_voice_id_25968479.mp3', 'array': [0.0, 0.0, 0.0, 0.0, 0.0, 0.0, 0.0, 0.0, 0.0, 0.0, 0.0, 0.0, 0.0, 0.0, 0.0, 0.0, 0.0, 0.0, 0.0, 0.0, 0.0, 0.0, 0.0, 0.0, 0.0, 0.0, 0.0, 0.0, 0.0, 0.0, 0.0, 0.0, 0.0, 0.0, 0.0, 0.0, 0.0, 0.0, 0.0, 0.0, 0.0, 0.0, 0.0, 0.0, 0.0, 0.0, 0.0, 0.0, 0.0, 0.0, 0.0, 0.0, 0.0, 0.0, 0.0, 0.0, 0.0, 0.0, 0.0, 0.0, 0.0, 0.0, 0.0, 0.0, 0.0, 0.0, 0.0, 0.0, 0.0, 0.0, 0.0, 0.0, 0.0, 0.0, 0.0, 0.0, 0.0, 0.0, 0.0, 0.0, 0.0, 0.0, 0.0, 0.0, 0.0, 0.0, 0.0, 0.0, 0.0, 0.0, 0.0, 0.0, 0.0, 0.0, 0.0, 0.0, 0.0, 0.0, 0.0, 0.0, ...], 'sampling_rate': 48000}</td>\n",
       "      <td>Kata-kata Sino-Korea adalah salah satu dari tiga tipe kosa kata dalam Bahasa Korea.</td>\n",
       "    </tr>\n",
       "    <tr>\n",
       "      <th>4</th>\n",
       "      <td>{'path': '/home/vlsi-elka/.cache/huggingface/datasets/downloads/extracted/715f35619aeb830a0fe0683a21bc935ce702d3abc85dda65f4301e2667c39582/common_voice_id_26215606.mp3', 'array': [0.0, 0.0, 0.0, 0.0, 0.0, 0.0, 0.0, 0.0, 0.0, 0.0, 0.0, 0.0, 0.0, 0.0, 0.0, 0.0, 0.0, 0.0, 0.0, 0.0, 0.0, 0.0, 0.0, 0.0, 0.0, 0.0, 0.0, 0.0, 0.0, 0.0, 0.0, 0.0, 0.0, 0.0, 0.0, 0.0, 0.0, 0.0, 0.0, 0.0, 0.0, 0.0, 0.0, 0.0, 0.0, 0.0, 0.0, 0.0, 0.0, 0.0, 0.0, 0.0, 0.0, 0.0, 0.0, 0.0, 0.0, 0.0, 0.0, 0.0, 0.0, 0.0, 0.0, 0.0, 0.0, 0.0, 0.0, 0.0, 0.0, 0.0, 0.0, 0.0, 0.0, 0.0, 0.0, 0.0, 0.0, 0.0, 0.0, 0.0, 0.0, 0.0, 0.0, 0.0, 0.0, 0.0, 0.0, 0.0, 0.0, 0.0, 0.0, 0.0, 0.0, 0.0, 0.0, 0.0, 0.0, 0.0, 0.0, 0.0, ...], 'sampling_rate': 48000}</td>\n",
       "      <td>Para pejabat Jepang meminta maaf atas kecelakaan itu.</td>\n",
       "    </tr>\n",
       "    <tr>\n",
       "      <th>5</th>\n",
       "      <td>{'path': '/home/vlsi-elka/.cache/huggingface/datasets/downloads/extracted/715f35619aeb830a0fe0683a21bc935ce702d3abc85dda65f4301e2667c39582/common_voice_id_26009579.mp3', 'array': [0.0, 0.0, 0.0, 0.0, 0.0, 0.0, 0.0, 0.0, 0.0, 0.0, 0.0, 0.0, 0.0, 0.0, 0.0, 0.0, 0.0, 0.0, 0.0, 0.0, 0.0, 0.0, 0.0, 0.0, 0.0, 0.0, 0.0, 0.0, 0.0, 0.0, 0.0, 0.0, 0.0, 0.0, 0.0, 0.0, 0.0, 0.0, 0.0, 0.0, 0.0, 0.0, 0.0, 0.0, 0.0, 0.0, 0.0, 0.0, 0.0, 0.0, 0.0, 0.0, 0.0, 0.0, 0.0, 0.0, 0.0, 0.0, 0.0, 0.0, 0.0, 0.0, 0.0, 0.0, 0.0, 0.0, 0.0, 0.0, 0.0, 0.0, 0.0, 0.0, 0.0, 0.0, 0.0, 0.0, 0.0, 0.0, 0.0, 0.0, 0.0, 0.0, 0.0, 0.0, 0.0, 0.0, 0.0, 0.0, 0.0, 0.0, 0.0, 0.0, 0.0, 0.0, 0.0, 0.0, 0.0, 0.0, 0.0, 0.0, ...], 'sampling_rate': 48000}</td>\n",
       "      <td>Stasiun kereta api Allawah berada di jalur Illawarra yang dilayani oleh Sydney Trains.</td>\n",
       "    </tr>\n",
       "    <tr>\n",
       "      <th>6</th>\n",
       "      <td>{'path': '/home/vlsi-elka/.cache/huggingface/datasets/downloads/extracted/715f35619aeb830a0fe0683a21bc935ce702d3abc85dda65f4301e2667c39582/common_voice_id_26268212.mp3', 'array': [0.0, 0.0, 0.0, 0.0, 0.0, 0.0, 0.0, 0.0, 0.0, 0.0, 0.0, 0.0, 0.0, 0.0, 0.0, 0.0, 0.0, 0.0, 0.0, 0.0, 0.0, 0.0, 0.0, 0.0, 0.0, 0.0, 0.0, 0.0, 0.0, 0.0, 0.0, 0.0, 0.0, 0.0, 0.0, 0.0, 0.0, 0.0, 0.0, 0.0, 0.0, 0.0, 0.0, 0.0, 0.0, 0.0, 0.0, 0.0, 0.0, 0.0, 0.0, 0.0, 0.0, 0.0, 0.0, 0.0, 0.0, 0.0, 0.0, 0.0, 0.0, 0.0, 0.0, 0.0, 0.0, 0.0, 0.0, 0.0, 0.0, 0.0, 0.0, 0.0, 0.0, 0.0, 0.0, 0.0, 0.0, 0.0, 0.0, 0.0, 0.0, 0.0, 0.0, 0.0, 0.0, 0.0, 0.0, 0.0, 0.0, 0.0, 0.0, 0.0, 0.0, 0.0, 0.0, 0.0, 0.0, 0.0, 0.0, 0.0, ...], 'sampling_rate': 48000}</td>\n",
       "      <td>Ia lahir dan mati di Budapest.</td>\n",
       "    </tr>\n",
       "    <tr>\n",
       "      <th>7</th>\n",
       "      <td>{'path': '/home/vlsi-elka/.cache/huggingface/datasets/downloads/extracted/715f35619aeb830a0fe0683a21bc935ce702d3abc85dda65f4301e2667c39582/common_voice_id_26208526.mp3', 'array': [0.0, 0.0, 0.0, 0.0, 0.0, 0.0, 0.0, 0.0, 0.0, 0.0, 0.0, 0.0, 0.0, 0.0, 0.0, 0.0, 0.0, 0.0, 0.0, 0.0, 0.0, 0.0, 0.0, 0.0, 0.0, 0.0, 0.0, 0.0, 0.0, 0.0, 0.0, 0.0, 0.0, 0.0, 0.0, 0.0, 0.0, 0.0, 0.0, 0.0, 0.0, 0.0, 0.0, 0.0, 0.0, 0.0, 0.0, 0.0, 0.0, 0.0, 0.0, 0.0, 0.0, 0.0, 0.0, 0.0, 0.0, 0.0, 0.0, 0.0, 0.0, 0.0, 0.0, 0.0, 0.0, 0.0, 0.0, 0.0, 0.0, 0.0, 0.0, 0.0, 0.0, 0.0, 0.0, 0.0, 0.0, 0.0, 0.0, 0.0, 0.0, 0.0, 0.0, 0.0, 0.0, 0.0, 0.0, 0.0, 0.0, 0.0, 0.0, 0.0, 0.0, 0.0, 0.0, 0.0, 0.0, 0.0, 0.0, 0.0, ...], 'sampling_rate': 48000}</td>\n",
       "      <td>Kamu tak perlu lagi bersusah hati.</td>\n",
       "    </tr>\n",
       "    <tr>\n",
       "      <th>8</th>\n",
       "      <td>{'path': '/home/vlsi-elka/.cache/huggingface/datasets/downloads/extracted/715f35619aeb830a0fe0683a21bc935ce702d3abc85dda65f4301e2667c39582/common_voice_id_26228443.mp3', 'array': [0.0, 0.0, 0.0, 0.0, 0.0, 0.0, 0.0, 0.0, 0.0, 0.0, 0.0, 0.0, 0.0, 0.0, 0.0, 0.0, 0.0, 0.0, 0.0, 0.0, 0.0, 0.0, 0.0, 0.0, 0.0, 0.0, 0.0, 0.0, 0.0, 0.0, 0.0, 0.0, 0.0, 0.0, 0.0, 0.0, 0.0, 0.0, 0.0, 0.0, 0.0, 0.0, 0.0, 0.0, 0.0, 0.0, 0.0, 0.0, 0.0, 0.0, 0.0, 0.0, 0.0, 0.0, 0.0, 0.0, 0.0, 0.0, 0.0, 0.0, 0.0, 0.0, 0.0, 0.0, 0.0, 0.0, 0.0, 0.0, 0.0, 0.0, 0.0, 0.0, 0.0, 0.0, 0.0, 0.0, 0.0, 0.0, 0.0, 0.0, 0.0, 0.0, 0.0, 0.0, 0.0, 0.0, 0.0, 0.0, 0.0, 0.0, 0.0, 0.0, 0.0, 0.0, 0.0, 0.0, 0.0, 0.0, 0.0, 0.0, ...], 'sampling_rate': 48000}</td>\n",
       "      <td>Kota itu saat ini membentuk bagian dari wilayah statistik mikropolitan Ozark.</td>\n",
       "    </tr>\n",
       "    <tr>\n",
       "      <th>9</th>\n",
       "      <td>{'path': '/home/vlsi-elka/.cache/huggingface/datasets/downloads/extracted/715f35619aeb830a0fe0683a21bc935ce702d3abc85dda65f4301e2667c39582/common_voice_id_26256644.mp3', 'array': [0.0, 0.0, 0.0, 0.0, 0.0, 0.0, 0.0, 0.0, 0.0, 0.0, 0.0, 0.0, 0.0, 0.0, 0.0, 0.0, 0.0, 0.0, 0.0, 0.0, 0.0, 0.0, 0.0, 0.0, 0.0, 0.0, 0.0, 0.0, 0.0, 0.0, 0.0, 0.0, 0.0, 0.0, 0.0, 0.0, 0.0, 0.0, 0.0, 0.0, 0.0, 0.0, 0.0, 0.0, 0.0, 0.0, 0.0, 0.0, 0.0, 0.0, 0.0, 0.0, 0.0, 0.0, 0.0, 0.0, 0.0, 0.0, 0.0, 0.0, 0.0, 0.0, 0.0, 0.0, 0.0, 0.0, 0.0, 0.0, 0.0, 0.0, 0.0, 0.0, 0.0, 0.0, 0.0, 0.0, 0.0, 0.0, 0.0, 0.0, 0.0, 0.0, 0.0, 0.0, 0.0, 0.0, 0.0, 0.0, 0.0, 0.0, 0.0, 0.0, 0.0, 0.0, 0.0, 0.0, 0.0, 0.0, 0.0, 0.0, ...], 'sampling_rate': 48000}</td>\n",
       "      <td>Oleh karena itu, yang lebih sehat adalah, pernapasan yang lebih dalam.</td>\n",
       "    </tr>\n",
       "  </tbody>\n",
       "</table>"
      ],
      "text/plain": [
       "<IPython.core.display.HTML object>"
      ]
     },
     "metadata": {},
     "output_type": "display_data"
    }
   ],
   "source": [
    "# show_random_elements(common_voice_train.remove_columns([\"path\", \"audio\"]), num_examples=10)\n",
    "show_random_elements(common_voice_train.remove_columns([\"path\"]), num_examples=10)\n"
   ]
  },
  {
   "cell_type": "code",
   "execution_count": 10,
   "id": "5d4b3b58",
   "metadata": {},
   "outputs": [],
   "source": [
    "import re\n",
    "chars_to_remove_regex = '[\\,\\?\\.\\!\\-\\;\\:\\\"\\“\\%\\‘\\”\\�\\'\\，\\(\\)\\[\\]\\’\\–\\—\\\\\\]'\n",
    "\n",
    "def remove_special_characters(batch):\n",
    "    batch[\"sentence\"] = re.sub(chars_to_remove_regex, '', batch[\"sentence\"]).lower()\n",
    "    return batch"
   ]
  },
  {
   "cell_type": "code",
   "execution_count": 11,
   "id": "297fd234",
   "metadata": {},
   "outputs": [
    {
     "name": "stderr",
     "output_type": "stream",
     "text": [
      "Loading cached processed dataset at /home/vlsi-elka/.cache/huggingface/datasets/mozilla-foundation___common_voice_11_0/id/11.0.0/2c65b95d99ca879b1b1074ea197b65e0497848fd697fdb0582e0f6b75b6f4da0/cache-f8b090656fac17da.arrow\n",
      "Loading cached processed dataset at /home/vlsi-elka/.cache/huggingface/datasets/mozilla-foundation___common_voice_11_0/id/11.0.0/2c65b95d99ca879b1b1074ea197b65e0497848fd697fdb0582e0f6b75b6f4da0/cache-4283cc4e489be053.arrow\n"
     ]
    }
   ],
   "source": [
    "common_voice_train = common_voice_train.map(remove_special_characters)\n",
    "common_voice_test = common_voice_test.map(remove_special_characters)"
   ]
  },
  {
   "cell_type": "code",
   "execution_count": 12,
   "id": "cd1956b3",
   "metadata": {},
   "outputs": [],
   "source": [
    "def extract_all_chars(batch):\n",
    "  all_text = \" \".join(batch[\"sentence\"])\n",
    "  vocab = list(set(all_text))\n",
    "  return {\"vocab\": [vocab], \"all_text\": [all_text]}"
   ]
  },
  {
   "cell_type": "code",
   "execution_count": 13,
   "id": "28fd1b58",
   "metadata": {},
   "outputs": [],
   "source": [
    "vocab_train = common_voice_train.map(extract_all_chars, batched=True, batch_size=-1, keep_in_memory=True, remove_columns=common_voice_train.column_names)\n",
    "vocab_test = common_voice_test.map(extract_all_chars, batched=True, batch_size=-1, keep_in_memory=True, remove_columns=common_voice_test.column_names)"
   ]
  },
  {
   "cell_type": "code",
   "execution_count": 14,
   "id": "8a6b02f9",
   "metadata": {},
   "outputs": [],
   "source": [
    "vocab_list = list(set(vocab_train[\"vocab\"][0]) | set(vocab_test[\"vocab\"][0]))"
   ]
  },
  {
   "cell_type": "code",
   "execution_count": 15,
   "id": "1c14ba56",
   "metadata": {},
   "outputs": [],
   "source": [
    "vocab_dict = {v: k for k, v in enumerate(vocab_list)}\n",
    "vocab_dict"
   ]
  },
  {
   "cell_type": "code",
   "execution_count": 16,
   "id": "85ab976c",
   "metadata": {},
   "outputs": [],
   "source": [
    "vocab_dict[\"|\"] = vocab_dict[\" \"]\n",
    "del vocab_dict[\" \"]"
   ]
  },
  {
   "cell_type": "code",
   "execution_count": 17,
   "id": "bf651aee",
   "metadata": {},
   "outputs": [],
   "source": [
    "vocab_dict[\"[UNK]\"] = len(vocab_dict)\n",
    "vocab_dict[\"[PAD]\"] = len(vocab_dict)\n",
    "len(vocab_dict)"
   ]
  },
  {
   "cell_type": "code",
   "execution_count": 18,
   "id": "99c77c25",
   "metadata": {},
   "outputs": [],
   "source": [
    "import json\n",
    "with open('vocab.json', 'w') as vocab_file:\n",
    "    json.dump(vocab_dict, vocab_file)"
   ]
  },
  {
   "cell_type": "code",
   "execution_count": 19,
   "id": "533690fd",
   "metadata": {},
   "outputs": [],
   "source": [
    "from transformers import Wav2Vec2CTCTokenizer\n",
    "\n",
    "tokenizer = Wav2Vec2CTCTokenizer(\"./vocab.json\", unk_token=\"[UNK]\", pad_token=\"[PAD]\", word_delimiter_token=\"|\")"
   ]
  },
  {
   "cell_type": "code",
   "execution_count": 20,
   "id": "d2f12a6f",
   "metadata": {},
   "outputs": [],
   "source": [
    "from transformers import Wav2Vec2FeatureExtractor\n",
    "\n",
    "feature_extractor = Wav2Vec2FeatureExtractor(feature_size=1, sampling_rate=16000, padding_value=0.0, do_normalize=True, return_attention_mask=True)"
   ]
  },
  {
   "cell_type": "code",
   "execution_count": 21,
   "id": "8ec1ce0c",
   "metadata": {},
   "outputs": [],
   "source": [
    "from transformers import Wav2Vec2Processor\n",
    "\n",
    "processor = Wav2Vec2Processor(feature_extractor=feature_extractor, tokenizer=tokenizer)"
   ]
  },
  {
   "cell_type": "code",
   "execution_count": 22,
   "id": "b392c613",
   "metadata": {},
   "outputs": [
    {
     "data": {
      "text/plain": [
       "Dataset({\n",
       "    features: ['path', 'audio', 'sentence'],\n",
       "    num_rows: 5048\n",
       "})"
      ]
     },
     "execution_count": 22,
     "metadata": {},
     "output_type": "execute_result"
    }
   ],
   "source": [
    "common_voice_train"
   ]
  },
  {
   "cell_type": "code",
   "execution_count": 23,
   "id": "1bb3b313",
   "metadata": {},
   "outputs": [],
   "source": [
    "common_voice_train = common_voice_train.cast_column(\"audio\", Audio(sampling_rate=16_000))\n",
    "common_voice_test = common_voice_test.cast_column(\"audio\", Audio(sampling_rate=16_000))"
   ]
  },
  {
   "cell_type": "code",
   "execution_count": 24,
   "id": "a2c2b199",
   "metadata": {},
   "outputs": [
    {
     "name": "stdout",
     "output_type": "stream",
     "text": [
      "chen lahir di wuxi jinangsu\n"
     ]
    },
    {
     "data": {
      "text/html": [
       "\n",
       "                <audio  controls=\"controls\" autoplay=\"autoplay\">\n",
       "                    <source src=\"data:audio/wav;base64,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\" type=\"audio/wav\" />\n",
       "                    Your browser does not support the audio element.\n",
       "                </audio>\n",
       "              "
      ],
      "text/plain": [
       "<IPython.lib.display.Audio object>"
      ]
     },
     "execution_count": 24,
     "metadata": {},
     "output_type": "execute_result"
    }
   ],
   "source": [
    "import IPython.display as ipd\n",
    "import numpy as np\n",
    "import random\n",
    "\n",
    "rand_int = random.randint(0, len(common_voice_train)-1)\n",
    "\n",
    "print(common_voice_train[rand_int][\"sentence\"])\n",
    "ipd.Audio(data=common_voice_train[rand_int][\"audio\"][\"array\"], autoplay=True, rate=16000)\n"
   ]
  },
  {
   "cell_type": "code",
   "execution_count": 25,
   "id": "8587c968",
   "metadata": {},
   "outputs": [
    {
     "data": {
      "text/plain": [
       "Dataset({\n",
       "    features: ['path', 'audio', 'sentence'],\n",
       "    num_rows: 5048\n",
       "})"
      ]
     },
     "execution_count": 25,
     "metadata": {},
     "output_type": "execute_result"
    }
   ],
   "source": [
    "common_voice_train"
   ]
  },
  {
   "cell_type": "code",
   "execution_count": 26,
   "id": "6e800549",
   "metadata": {},
   "outputs": [],
   "source": [
    "def prepare_dataset(batch):\n",
    "    audio = batch[\"audio\"]\n",
    "\n",
    "    # batched output is \"un-batched\"\n",
    "    batch[\"input_values\"] = processor(audio[\"array\"], sampling_rate=audio[\"sampling_rate\"]).input_values[0]\n",
    "    batch[\"input_length\"] = len(batch[\"input_values\"])\n",
    "    \n",
    "    with processor.as_target_processor():\n",
    "        batch[\"labels\"] = processor(batch[\"sentence\"]).input_ids\n",
    "    return batch"
   ]
  },
  {
   "cell_type": "code",
   "execution_count": 27,
   "id": "c8e5d504",
   "metadata": {},
   "outputs": [
    {
     "data": {
      "application/vnd.jupyter.widget-view+json": {
       "model_id": "090e76abed87493eafcd9436aa008d1e",
       "version_major": 2,
       "version_minor": 0
      },
      "text/plain": [
       "  0%|          | 0/5048 [00:00<?, ?ex/s]"
      ]
     },
     "metadata": {},
     "output_type": "display_data"
    },
    {
     "name": "stderr",
     "output_type": "stream",
     "text": [
      "Loading cached processed dataset at /home/vlsi-elka/.cache/huggingface/datasets/mozilla-foundation___common_voice_11_0/id/11.0.0/2c65b95d99ca879b1b1074ea197b65e0497848fd697fdb0582e0f6b75b6f4da0/cache-b4a41bff5f5d9ab1.arrow\n"
     ]
    }
   ],
   "source": [
    "common_voice_train = common_voice_train.map(prepare_dataset, remove_columns=common_voice_train.column_names)\n",
    "common_voice_test = common_voice_test.map(prepare_dataset, remove_columns=common_voice_test.column_names)"
   ]
  },
  {
   "cell_type": "code",
   "execution_count": 29,
   "id": "a16e9580",
   "metadata": {},
   "outputs": [],
   "source": [
    "import torch\n",
    "\n",
    "from dataclasses import dataclass, field\n",
    "from typing import Any, Dict, List, Optional, Union\n",
    "\n",
    "@dataclass\n",
    "class DataCollatorCTCWithPadding:\n",
    "    \"\"\"\n",
    "    Data collator that will dynamically pad the inputs received.\n",
    "    Args:\n",
    "        processor (:class:`~transformers.Wav2Vec2Processor`)\n",
    "            The processor used for proccessing the data.\n",
    "        padding (:obj:`bool`, :obj:`str` or :class:`~transformers.tokenization_utils_base.PaddingStrategy`, `optional`, defaults to :obj:`True`):\n",
    "            Select a strategy to pad the returned sequences (according to the model's padding side and padding index)\n",
    "            among:\n",
    "            * :obj:`True` or :obj:`'longest'`: Pad to the longest sequence in the batch (or no padding if only a single\n",
    "              sequence if provided).\n",
    "            * :obj:`'max_length'`: Pad to a maximum length specified with the argument :obj:`max_length` or to the\n",
    "              maximum acceptable input length for the model if that argument is not provided.\n",
    "            * :obj:`False` or :obj:`'do_not_pad'` (default): No padding (i.e., can output a batch with sequences of\n",
    "              different lengths).\n",
    "        max_length (:obj:`int`, `optional`):\n",
    "            Maximum length of the ``input_values`` of the returned list and optionally padding length (see above).\n",
    "        max_length_labels (:obj:`int`, `optional`):\n",
    "            Maximum length of the ``labels`` returned list and optionally padding length (see above).\n",
    "        pad_to_multiple_of (:obj:`int`, `optional`):\n",
    "            If set will pad the sequence to a multiple of the provided value.\n",
    "            This is especially useful to enable the use of Tensor Cores on NVIDIA hardware with compute capability >=\n",
    "            7.5 (Volta).\n",
    "    \"\"\"\n",
    "\n",
    "    processor: Wav2Vec2Processor\n",
    "    padding: Union[bool, str] = True\n",
    "    max_length: Optional[int] = None\n",
    "    max_length_labels: Optional[int] = None\n",
    "    pad_to_multiple_of: Optional[int] = None\n",
    "    pad_to_multiple_of_labels: Optional[int] = None\n",
    "\n",
    "    def __call__(self, features: List[Dict[str, Union[List[int], torch.Tensor]]]) -> Dict[str, torch.Tensor]:\n",
    "        # split inputs and labels since they have to be of different lengths and need\n",
    "        # different padding methods\n",
    "        input_features = [{\"input_values\": feature[\"input_values\"]} for feature in features]\n",
    "        label_features = [{\"input_ids\": feature[\"labels\"]} for feature in features]\n",
    "\n",
    "        batch = self.processor.pad(\n",
    "            input_features,\n",
    "            padding=self.padding,\n",
    "            max_length=self.max_length,\n",
    "            pad_to_multiple_of=self.pad_to_multiple_of,\n",
    "            return_tensors=\"pt\",\n",
    "        )\n",
    "        with self.processor.as_target_processor():\n",
    "            labels_batch = self.processor.pad(\n",
    "                label_features,\n",
    "                padding=self.padding,\n",
    "                max_length=self.max_length_labels,\n",
    "                pad_to_multiple_of=self.pad_to_multiple_of_labels,\n",
    "                return_tensors=\"pt\",\n",
    "            )\n",
    "\n",
    "        # replace padding with -100 to ignore loss correctly\n",
    "        labels = labels_batch[\"input_ids\"].masked_fill(labels_batch.attention_mask.ne(1), -100)\n",
    "\n",
    "        batch[\"labels\"] = labels\n",
    "\n",
    "        return batch\n"
   ]
  },
  {
   "cell_type": "code",
   "execution_count": 30,
   "id": "d75fc685",
   "metadata": {},
   "outputs": [],
   "source": [
    "data_collator = DataCollatorCTCWithPadding(processor=processor, padding=True)\n"
   ]
  },
  {
   "cell_type": "code",
   "execution_count": 31,
   "id": "73012b72",
   "metadata": {},
   "outputs": [],
   "source": [
    "from jiwer import cer\n",
    "import numpy as np\n",
    "def compute_metrics(pred):\n",
    "    global cer\n",
    "    pred_logits = pred.predictions\n",
    "    pred_ids = np.argmax(pred_logits, axis=-1)\n",
    "\n",
    "    pred.label_ids[pred.label_ids == -100] = processor.tokenizer.pad_token_id\n",
    "\n",
    "    pred_str = processor.batch_decode(pred_ids)\n",
    "    # we do not want to group tokens when computing the metrics\n",
    "    label_str = processor.batch_decode(pred.label_ids, group_tokens=False)\n",
    "\n",
    "    # wer = wer_metric.compute(predictions=pred_str, references=label_str)\n",
    "    # cer = fastwer.score(pred_str, label_str, char_level=True)\n",
    "    # cer = word_error_rate(hypotheses=pred_str, references=label_str, use_cer=True)\n",
    "\n",
    "    # ref: https://huggingface.co/ctl/wav2vec2-large-xlsr-cantonese/blob/main/cer.py\n",
    "    preds = [char for seq in pred_str for char in list(seq)]\n",
    "    refs = [char for seq in label_str for char in list(seq)]\n",
    "    cer_error = cer(pred_str, label_str)\n",
    "\n",
    "    return {\"cer\": cer_error}\n",
    "    # return {\"wer\": wer}"
   ]
  },
  {
   "cell_type": "code",
   "execution_count": 1,
   "id": "ccc39236",
   "metadata": {},
   "outputs": [
    {
     "ename": "NameError",
     "evalue": "name 'cer' is not defined",
     "output_type": "error",
     "traceback": [
      "\u001b[0;31m---------------------------------------------------------------------------\u001b[0m",
      "\u001b[0;31mNameError\u001b[0m                                 Traceback (most recent call last)",
      "\u001b[0;32m/tmp/ipykernel_22721/628915443.py\u001b[0m in \u001b[0;36m<module>\u001b[0;34m\u001b[0m\n\u001b[1;32m      1\u001b[0m \u001b[0mtes\u001b[0m \u001b[0;34m=\u001b[0m \u001b[0;34m'aaab'\u001b[0m\u001b[0;34m\u001b[0m\u001b[0;34m\u001b[0m\u001b[0m\n\u001b[1;32m      2\u001b[0m \u001b[0mref\u001b[0m \u001b[0;34m=\u001b[0m \u001b[0;34m'aac'\u001b[0m\u001b[0;34m\u001b[0m\u001b[0;34m\u001b[0m\u001b[0m\n\u001b[0;32m----> 3\u001b[0;31m \u001b[0merror\u001b[0m \u001b[0;34m=\u001b[0m \u001b[0mcer\u001b[0m\u001b[0;34m(\u001b[0m\u001b[0mtes\u001b[0m\u001b[0;34m,\u001b[0m \u001b[0mref\u001b[0m\u001b[0;34m)\u001b[0m\u001b[0;34m\u001b[0m\u001b[0;34m\u001b[0m\u001b[0m\n\u001b[0m\u001b[1;32m      4\u001b[0m \u001b[0mprint\u001b[0m\u001b[0;34m(\u001b[0m\u001b[0merror\u001b[0m\u001b[0;34m)\u001b[0m\u001b[0;34m\u001b[0m\u001b[0;34m\u001b[0m\u001b[0m\n",
      "\u001b[0;31mNameError\u001b[0m: name 'cer' is not defined"
     ]
    }
   ],
   "source": [
    "tes = 'aaab'\n",
    "ref = 'aac'\n",
    "error = cer(tes, ref)\n",
    "print(error)"
   ]
  },
  {
   "cell_type": "code",
   "execution_count": 35,
   "id": "03e361f5",
   "metadata": {},
   "outputs": [
    {
     "name": "stderr",
     "output_type": "stream",
     "text": [
      "Some weights of the model checkpoint at facebook/wav2vec2-large-xlsr-53 were not used when initializing Wav2Vec2ForCTC: ['project_q.bias', 'project_hid.weight', 'quantizer.weight_proj.bias', 'project_q.weight', 'quantizer.codevectors', 'project_hid.bias', 'quantizer.weight_proj.weight']\n",
      "- This IS expected if you are initializing Wav2Vec2ForCTC from the checkpoint of a model trained on another task or with another architecture (e.g. initializing a BertForSequenceClassification model from a BertForPreTraining model).\n",
      "- This IS NOT expected if you are initializing Wav2Vec2ForCTC from the checkpoint of a model that you expect to be exactly identical (initializing a BertForSequenceClassification model from a BertForSequenceClassification model).\n",
      "Some weights of Wav2Vec2ForCTC were not initialized from the model checkpoint at facebook/wav2vec2-large-xlsr-53 and are newly initialized: ['lm_head.weight', 'lm_head.bias']\n",
      "You should probably TRAIN this model on a down-stream task to be able to use it for predictions and inference.\n"
     ]
    }
   ],
   "source": [
    "from transformers import Wav2Vec2ForCTC\n",
    "\n",
    "model = Wav2Vec2ForCTC.from_pretrained(\n",
    "    \"facebook/wav2vec2-large-xlsr-53\", \n",
    "    attention_dropout=0.0,\n",
    "    hidden_dropout=0.0,\n",
    "    feat_proj_dropout=0.0,\n",
    "    mask_time_prob=0.05,\n",
    "    layerdrop=0.1, \n",
    "    ctc_loss_reduction=\"mean\", \n",
    "    pad_token_id=processor.tokenizer.pad_token_id,\n",
    "    vocab_size=len(processor.tokenizer)\n",
    ")"
   ]
  },
  {
   "cell_type": "code",
   "execution_count": 36,
   "id": "3d2417c8",
   "metadata": {},
   "outputs": [],
   "source": [
    "model.freeze_feature_extractor()"
   ]
  },
  {
   "cell_type": "code",
   "execution_count": 37,
   "id": "46005e79",
   "metadata": {},
   "outputs": [],
   "source": [
    "repo_name = \"tutor-ckpt-model/ckp-try-3\""
   ]
  },
  {
   "cell_type": "code",
   "execution_count": 38,
   "id": "1db82c25",
   "metadata": {},
   "outputs": [],
   "source": [
    "from transformers import TrainingArguments\n",
    "\n",
    "training_args = TrainingArguments(\n",
    "  output_dir=repo_name,\n",
    "  group_by_length=True,\n",
    "  per_device_train_batch_size=16,\n",
    "  evaluation_strategy=\"steps\",\n",
    "  num_train_epochs=16,\n",
    "  gradient_checkpointing=True,\n",
    "  fp16=False,\n",
    "  save_steps=500,\n",
    "  eval_steps=500,\n",
    "  logging_steps=500,\n",
    "  learning_rate=1e-4,\n",
    "  weight_decay=0.005,\n",
    "  warmup_steps=1000,\n",
    "  save_total_limit=2\n",
    ")"
   ]
  },
  {
   "cell_type": "code",
   "execution_count": 39,
   "id": "771f4318",
   "metadata": {},
   "outputs": [],
   "source": [
    "from transformers import Trainer\n",
    "\n",
    "trainer = Trainer(\n",
    "    model=model,\n",
    "    data_collator=data_collator,\n",
    "    args=training_args,\n",
    "    compute_metrics=compute_metrics,\n",
    "    train_dataset=common_voice_train,\n",
    "    eval_dataset=common_voice_test,\n",
    "    tokenizer=processor.feature_extractor,\n",
    ")"
   ]
  },
  {
   "cell_type": "code",
   "execution_count": 40,
   "id": "dbe32722",
   "metadata": {},
   "outputs": [],
   "source": [
    "import os\n",
    "os.environ[\"WANDB_DISABLED\"]=\"true\""
   ]
  },
  {
   "cell_type": "code",
   "execution_count": 41,
   "id": "e988f12e",
   "metadata": {
    "scrolled": false
   },
   "outputs": [
    {
     "name": "stderr",
     "output_type": "stream",
     "text": [
      "Loading model from tutor-ckpt-model/ckp-try-3/checkpoint-3000).\n",
      "The following columns in the training set  don't have a corresponding argument in `Wav2Vec2ForCTC.forward` and have been ignored: input_length.\n",
      "***** Running training *****\n",
      "  Num examples = 5048\n",
      "  Num Epochs = 16\n",
      "  Instantaneous batch size per device = 16\n",
      "  Total train batch size (w. parallel, distributed & accumulation) = 16\n",
      "  Gradient Accumulation steps = 1\n",
      "  Total optimization steps = 5056\n",
      "  Continuing training from checkpoint, will skip to saved global_step\n",
      "  Continuing training from epoch 9\n",
      "  Continuing training from global step 3000\n",
      "  Will skip the first 9 epochs then the first 156 batches in the first epoch. If this takes a lot of time, you can add the `--ignore_data_skip` flag to your launch command, but you will resume the training on data already seen by your model.\n"
     ]
    },
    {
     "data": {
      "application/vnd.jupyter.widget-view+json": {
       "model_id": "34a937a2c89c4cb0a25c527175527d86",
       "version_major": 2,
       "version_minor": 0
      },
      "text/plain": [
       "  0%|          | 0/156 [00:00<?, ?it/s]"
      ]
     },
     "metadata": {},
     "output_type": "display_data"
    },
    {
     "name": "stderr",
     "output_type": "stream",
     "text": [
      "Automatic Weights & Biases logging enabled, to disable set os.environ[\"WANDB_DISABLED\"] = \"true\"\n"
     ]
    },
    {
     "data": {
      "text/html": [
       "Tracking run with wandb version 0.14.0"
      ],
      "text/plain": [
       "<IPython.core.display.HTML object>"
      ]
     },
     "metadata": {},
     "output_type": "display_data"
    },
    {
     "data": {
      "text/html": [
       "W&B syncing is set to <code>`offline`<code> in this directory.  <br/>Run <code>`wandb online`<code> or set <code>WANDB_MODE=online<code> to enable cloud syncing."
      ],
      "text/plain": [
       "<IPython.core.display.HTML object>"
      ]
     },
     "metadata": {},
     "output_type": "display_data"
    },
    {
     "name": "stderr",
     "output_type": "stream",
     "text": [
      "/home/vlsi-elka/anaconda3/lib/python3.9/site-packages/transformers/feature_extraction_utils.py:158: UserWarning: Creating a tensor from a list of numpy.ndarrays is extremely slow. Please consider converting the list to a single numpy.ndarray with numpy.array() before converting to a tensor. (Triggered internally at  ../torch/csrc/utils/tensor_new.cpp:201.)\n",
      "  tensor = as_tensor(value)\n",
      "Didn't find an RNG file, if you are resuming a training that was launched in a distributed fashion, reproducibility is not guaranteed.\n",
      "/home/vlsi-elka/anaconda3/lib/python3.9/site-packages/transformers/models/wav2vec2/modeling_wav2vec2.py:882: UserWarning: __floordiv__ is deprecated, and its behavior will change in a future version of pytorch. It currently rounds toward 0 (like the 'trunc' function NOT 'floor'). This results in incorrect rounding for negative values. To keep the current behavior, use torch.div(a, b, rounding_mode='trunc'), or for actual floor division, use torch.div(a, b, rounding_mode='floor').\n",
      "  return (input_length - kernel_size) // stride + 1\n",
      "/home/vlsi-elka/anaconda3/lib/python3.9/site-packages/torch/autocast_mode.py:141: UserWarning: User provided device_type of 'cuda', but CUDA is not available. Disabling\n",
      "  warnings.warn('User provided device_type of \\'cuda\\', but CUDA is not available. Disabling')\n"
     ]
    },
    {
     "data": {
      "text/html": [
       "\n",
       "    <div>\n",
       "      \n",
       "      <progress value='5056' max='5056' style='width:300px; height:20px; vertical-align: middle;'></progress>\n",
       "      [5056/5056 28:58:34, Epoch 16/16]\n",
       "    </div>\n",
       "    <table border=\"1\" class=\"dataframe\">\n",
       "  <thead>\n",
       "    <tr style=\"text-align: left;\">\n",
       "      <th>Step</th>\n",
       "      <th>Training Loss</th>\n",
       "      <th>Validation Loss</th>\n",
       "      <th>Cer</th>\n",
       "    </tr>\n",
       "  </thead>\n",
       "  <tbody>\n",
       "    <tr>\n",
       "      <td>3500</td>\n",
       "      <td>0.712600</td>\n",
       "      <td>0.528450</td>\n",
       "      <td>0.123303</td>\n",
       "    </tr>\n",
       "    <tr>\n",
       "      <td>4000</td>\n",
       "      <td>0.153900</td>\n",
       "      <td>0.517841</td>\n",
       "      <td>0.121478</td>\n",
       "    </tr>\n",
       "    <tr>\n",
       "      <td>4500</td>\n",
       "      <td>0.131700</td>\n",
       "      <td>0.539304</td>\n",
       "      <td>0.119309</td>\n",
       "    </tr>\n",
       "    <tr>\n",
       "      <td>5000</td>\n",
       "      <td>0.121300</td>\n",
       "      <td>0.540367</td>\n",
       "      <td>0.118412</td>\n",
       "    </tr>\n",
       "  </tbody>\n",
       "</table><p>"
      ],
      "text/plain": [
       "<IPython.core.display.HTML object>"
      ]
     },
     "metadata": {},
     "output_type": "display_data"
    },
    {
     "name": "stderr",
     "output_type": "stream",
     "text": [
      "The following columns in the evaluation set  don't have a corresponding argument in `Wav2Vec2ForCTC.forward` and have been ignored: input_length.\n",
      "***** Running Evaluation *****\n",
      "  Num examples = 3618\n",
      "  Batch size = 8\n",
      "Saving model checkpoint to tutor-ckpt-model/ckp-try-3/checkpoint-3500\n",
      "Configuration saved in tutor-ckpt-model/ckp-try-3/checkpoint-3500/config.json\n",
      "Model weights saved in tutor-ckpt-model/ckp-try-3/checkpoint-3500/pytorch_model.bin\n",
      "Configuration saved in tutor-ckpt-model/ckp-try-3/checkpoint-3500/preprocessor_config.json\n",
      "Deleting older checkpoint [tutor-ckpt-model/ckp-try-3/checkpoint-2500] due to args.save_total_limit\n",
      "/home/vlsi-elka/anaconda3/lib/python3.9/site-packages/transformers/models/wav2vec2/modeling_wav2vec2.py:882: UserWarning: __floordiv__ is deprecated, and its behavior will change in a future version of pytorch. It currently rounds toward 0 (like the 'trunc' function NOT 'floor'). This results in incorrect rounding for negative values. To keep the current behavior, use torch.div(a, b, rounding_mode='trunc'), or for actual floor division, use torch.div(a, b, rounding_mode='floor').\n",
      "  return (input_length - kernel_size) // stride + 1\n",
      "/home/vlsi-elka/anaconda3/lib/python3.9/site-packages/torch/autocast_mode.py:141: UserWarning: User provided device_type of 'cuda', but CUDA is not available. Disabling\n",
      "  warnings.warn('User provided device_type of \\'cuda\\', but CUDA is not available. Disabling')\n",
      "The following columns in the evaluation set  don't have a corresponding argument in `Wav2Vec2ForCTC.forward` and have been ignored: input_length.\n",
      "***** Running Evaluation *****\n",
      "  Num examples = 3618\n",
      "  Batch size = 8\n",
      "Saving model checkpoint to tutor-ckpt-model/ckp-try-3/checkpoint-4000\n",
      "Configuration saved in tutor-ckpt-model/ckp-try-3/checkpoint-4000/config.json\n",
      "Model weights saved in tutor-ckpt-model/ckp-try-3/checkpoint-4000/pytorch_model.bin\n",
      "Configuration saved in tutor-ckpt-model/ckp-try-3/checkpoint-4000/preprocessor_config.json\n",
      "Deleting older checkpoint [tutor-ckpt-model/ckp-try-3/checkpoint-3000] due to args.save_total_limit\n",
      "/home/vlsi-elka/anaconda3/lib/python3.9/site-packages/transformers/models/wav2vec2/modeling_wav2vec2.py:882: UserWarning: __floordiv__ is deprecated, and its behavior will change in a future version of pytorch. It currently rounds toward 0 (like the 'trunc' function NOT 'floor'). This results in incorrect rounding for negative values. To keep the current behavior, use torch.div(a, b, rounding_mode='trunc'), or for actual floor division, use torch.div(a, b, rounding_mode='floor').\n",
      "  return (input_length - kernel_size) // stride + 1\n",
      "/home/vlsi-elka/anaconda3/lib/python3.9/site-packages/torch/autocast_mode.py:141: UserWarning: User provided device_type of 'cuda', but CUDA is not available. Disabling\n",
      "  warnings.warn('User provided device_type of \\'cuda\\', but CUDA is not available. Disabling')\n",
      "The following columns in the evaluation set  don't have a corresponding argument in `Wav2Vec2ForCTC.forward` and have been ignored: input_length.\n",
      "***** Running Evaluation *****\n",
      "  Num examples = 3618\n",
      "  Batch size = 8\n",
      "Saving model checkpoint to tutor-ckpt-model/ckp-try-3/checkpoint-4500\n",
      "Configuration saved in tutor-ckpt-model/ckp-try-3/checkpoint-4500/config.json\n",
      "Model weights saved in tutor-ckpt-model/ckp-try-3/checkpoint-4500/pytorch_model.bin\n",
      "Configuration saved in tutor-ckpt-model/ckp-try-3/checkpoint-4500/preprocessor_config.json\n",
      "Deleting older checkpoint [tutor-ckpt-model/ckp-try-3/checkpoint-3500] due to args.save_total_limit\n",
      "/home/vlsi-elka/anaconda3/lib/python3.9/site-packages/transformers/models/wav2vec2/modeling_wav2vec2.py:882: UserWarning: __floordiv__ is deprecated, and its behavior will change in a future version of pytorch. It currently rounds toward 0 (like the 'trunc' function NOT 'floor'). This results in incorrect rounding for negative values. To keep the current behavior, use torch.div(a, b, rounding_mode='trunc'), or for actual floor division, use torch.div(a, b, rounding_mode='floor').\n",
      "  return (input_length - kernel_size) // stride + 1\n",
      "/home/vlsi-elka/anaconda3/lib/python3.9/site-packages/torch/autocast_mode.py:141: UserWarning: User provided device_type of 'cuda', but CUDA is not available. Disabling\n",
      "  warnings.warn('User provided device_type of \\'cuda\\', but CUDA is not available. Disabling')\n",
      "The following columns in the evaluation set  don't have a corresponding argument in `Wav2Vec2ForCTC.forward` and have been ignored: input_length.\n",
      "***** Running Evaluation *****\n",
      "  Num examples = 3618\n",
      "  Batch size = 8\n",
      "Saving model checkpoint to tutor-ckpt-model/ckp-try-3/checkpoint-5000\n",
      "Configuration saved in tutor-ckpt-model/ckp-try-3/checkpoint-5000/config.json\n",
      "Model weights saved in tutor-ckpt-model/ckp-try-3/checkpoint-5000/pytorch_model.bin\n",
      "Configuration saved in tutor-ckpt-model/ckp-try-3/checkpoint-5000/preprocessor_config.json\n",
      "Deleting older checkpoint [tutor-ckpt-model/ckp-try-3/checkpoint-4000] due to args.save_total_limit\n",
      "/home/vlsi-elka/anaconda3/lib/python3.9/site-packages/transformers/models/wav2vec2/modeling_wav2vec2.py:882: UserWarning: __floordiv__ is deprecated, and its behavior will change in a future version of pytorch. It currently rounds toward 0 (like the 'trunc' function NOT 'floor'). This results in incorrect rounding for negative values. To keep the current behavior, use torch.div(a, b, rounding_mode='trunc'), or for actual floor division, use torch.div(a, b, rounding_mode='floor').\n",
      "  return (input_length - kernel_size) // stride + 1\n",
      "/home/vlsi-elka/anaconda3/lib/python3.9/site-packages/torch/autocast_mode.py:141: UserWarning: User provided device_type of 'cuda', but CUDA is not available. Disabling\n",
      "  warnings.warn('User provided device_type of \\'cuda\\', but CUDA is not available. Disabling')\n",
      "\n",
      "\n",
      "Training completed. Do not forget to share your model on huggingface.co/models =)\n",
      "\n",
      "\n"
     ]
    },
    {
     "data": {
      "text/plain": [
       "TrainOutput(global_step=5056, training_loss=0.11202808403516118, metrics={'train_runtime': 104484.2642, 'train_samples_per_second': 0.773, 'train_steps_per_second': 0.048, 'total_flos': 1.3725981290497628e+19, 'train_loss': 0.11202808403516118, 'epoch': 16.0})"
      ]
     },
     "execution_count": 41,
     "metadata": {},
     "output_type": "execute_result"
    }
   ],
   "source": [
    "trainer.train(\"tutor-ckpt-model/ckp-try-3/checkpoint-3000\")"
   ]
  },
  {
   "cell_type": "code",
   "execution_count": null,
   "id": "04337f1f",
   "metadata": {},
   "outputs": [],
   "source": []
  },
  {
   "cell_type": "code",
   "execution_count": null,
   "id": "109704b6",
   "metadata": {},
   "outputs": [],
   "source": []
  }
 ],
 "metadata": {
  "kernelspec": {
   "display_name": "Python 3 (ipykernel)",
   "language": "python",
   "name": "python3"
  },
  "language_info": {
   "codemirror_mode": {
    "name": "ipython",
    "version": 3
   },
   "file_extension": ".py",
   "mimetype": "text/x-python",
   "name": "python",
   "nbconvert_exporter": "python",
   "pygments_lexer": "ipython3",
   "version": "3.9.13"
  }
 },
 "nbformat": 4,
 "nbformat_minor": 5
}
